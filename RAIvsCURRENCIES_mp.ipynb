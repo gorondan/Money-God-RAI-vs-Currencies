{
 "cells": [
  {
   "cell_type": "markdown",
   "id": "2f12e102",
   "metadata": {},
   "source": [
    "## RAI vs EUR GBP CHF AUD JPY (base USD) "
   ]
  },
  {
   "cell_type": "markdown",
   "id": "e739d40c",
   "metadata": {},
   "source": [
    "Read on-chain RAI data"
   ]
  },
  {
   "cell_type": "code",
   "execution_count": null,
   "id": "5dabf177",
   "metadata": {},
   "outputs": [],
   "source": [
    "import os\n",
    "import pandas as pd\n",
    "import matplotlib.pyplot as plt\n",
    "\n",
    "from web3 import Web3, HTTPProvider\n",
    "\n",
    "from abis import LINK_ETH, LINK_ETH_ABI, LINK_ETH_FIRST_BLOCK\n",
    "from abis import LINK_RAI, LINK_RAI_ABI, LINK_RAI_FIRST_BLOCK\n",
    "from abis import ORACLE_RELAYER, ORACLE_RELAYER_ABI, ORACLE_RELAYER_FIRST_BLOCK\n",
    "\n",
    "from mp import fetch, fetch_link_mp, fetch_rp\n",
    "\n",
    "size = 15\n",
    "params = {'legend.fontsize': 'large',\n",
    "          'figure.figsize': (20,12),\n",
    "          'axes.labelsize': size,\n",
    "          'axes.titlesize': size,\n",
    "          'xtick.labelsize': size*0.75,\n",
    "          'ytick.labelsize': size*0.75,\n",
    "          'axes.titlepad': 25}\n",
    "\n",
    "plt.rcParams.update(params)"
   ]
  },
  {
   "cell_type": "code",
   "execution_count": null,
   "id": "b14997c4-a834-41ae-b45a-1b90ff9c42b2",
   "metadata": {},
   "outputs": [],
   "source": [
    "# Need an archive node\n",
    "\n",
    "ETH_RPC_URL=os.environ['ETH_RPC_URL']\n",
    "web3 = Web3(HTTPProvider(endpoint_uri=ETH_RPC_URL, request_kwargs={\"timeout\": 10}))\n",
    "print(ETH_RPC_URL)"
   ]
  },
  {
   "cell_type": "code",
   "execution_count": null,
   "id": "a2e5cd4d-d48d-4701-a47d-7381b0310d02",
   "metadata": {},
   "outputs": [],
   "source": [
    "first_block = 13334360 # to be set to ~1 year before ExRates API start_date monthly, considering monthly output of data\n",
    "interval = 6379 * 1 #number of blocks per day\n",
    "num_blocks = None\n",
    "\n",
    "latest_block = web3.eth.get_block(\"latest\")['number']\n",
    "\n",
    "if not num_blocks:\n",
    "    last_block = latest_block - 12\n",
    "else:\n",
    "    last_block = min(latest_block - 12, first_block + num_blocks)\n",
    "\n",
    "print(f\"first block {first_block}, last_block {last_block}\")\n",
    "blocks = list(range(first_block, last_block + 1, interval))"
   ]
  },
  {
   "cell_type": "code",
   "execution_count": null,
   "id": "8e9e5f96",
   "metadata": {},
   "outputs": [],
   "source": [
    "#start = time.time()\n",
    "mp_results = fetch(fetch_link_mp, 8, LINK_RAI, LINK_RAI_ABI, ETH_RPC_URL, blocks=blocks)\n",
    "#print(f\"took {time.time() - start}\""
   ]
  },
  {
   "cell_type": "code",
   "execution_count": null,
   "id": "d4660afd-1396-4f57-ae70-859d9e9de7bf",
   "metadata": {},
   "outputs": [],
   "source": [
    "rp_results = fetch(fetch_rp, 8, ORACLE_RELAYER, ORACLE_RELAYER_ABI, ETH_RPC_URL, blocks=blocks)"
   ]
  },
  {
   "cell_type": "code",
   "execution_count": null,
   "id": "d3fd24ee",
   "metadata": {},
   "outputs": [],
   "source": [
    "rp_df = pd.DataFrame(rp_results)\n",
    "#rp_df.index\n",
    "rp_df.head(10)"
   ]
  },
  {
   "cell_type": "code",
   "execution_count": null,
   "id": "baa73692",
   "metadata": {},
   "outputs": [],
   "source": [
    "mp_df=pd.DataFrame(mp_results)\n",
    "mp_df.drop([3], axis=1, inplace=True)\n",
    "mp_df.head(10)"
   ]
  },
  {
   "cell_type": "code",
   "execution_count": null,
   "id": "0289a1d6",
   "metadata": {},
   "outputs": [],
   "source": [
    "rp_df.index"
   ]
  },
  {
   "cell_type": "code",
   "execution_count": null,
   "id": "766c518a",
   "metadata": {},
   "outputs": [],
   "source": [
    "mp_df.index"
   ]
  },
  {
   "cell_type": "code",
   "execution_count": null,
   "id": "ff19ea54",
   "metadata": {},
   "outputs": [],
   "source": [
    "rai_df = pd.merge(rp_df,mp_df, left_on=[0], right_on=[0], how='outer').astype(object)\n",
    "rai_df.columns=(['block','RAI_rp','RAI_mp','UnixTimestamp'])\n",
    "rai_df"
   ]
  },
  {
   "cell_type": "code",
   "execution_count": null,
   "id": "098864a0-3a9d-4131-8e46-7810689c1d36",
   "metadata": {},
   "outputs": [],
   "source": [
    "rai_df['RAI_rp'] = rai_df['RAI_rp']*1e-27\n",
    "rai_df['RAI_mp'] = rai_df['RAI_mp']*1e-8\n",
    "rai_df.index = pd.to_datetime(rai_df['UnixTimestamp'], unit='s').dt.date\n",
    "rai_final_df = rai_df[['RAI_rp','RAI_mp']]\n",
    "rai_final_df.index.name = None"
   ]
  },
  {
   "cell_type": "code",
   "execution_count": null,
   "id": "d47b13b8",
   "metadata": {},
   "outputs": [],
   "source": [
    "#rai_final_df = rai_final_df.transpose()\n",
    "rai_final_df"
   ]
  },
  {
   "cell_type": "code",
   "execution_count": null,
   "id": "92d32751-cdf8-4753-98e5-e380434251d3",
   "metadata": {},
   "outputs": [],
   "source": [
    "from ExRates import ExRates_final_df"
   ]
  },
  {
   "cell_type": "code",
   "execution_count": null,
   "id": "8c63589d",
   "metadata": {},
   "outputs": [],
   "source": [
    "ExRates_final_df = ExRates_final_df.transpose()\n",
    "ExRates_final_df"
   ]
  },
  {
   "cell_type": "code",
   "execution_count": null,
   "id": "78de7fd3-a830-4ace-b8f5-1c6665311f9c",
   "metadata": {},
   "outputs": [],
   "source": [
    "df = pd.merge(ExRates_final_df, rai_final_df,left_index=True, right_index=True)\n",
    "#df.to_csv('RAIvsEURGBPCHFAUDJPYCNY.csv')\n",
    "#pd.set_option('display.max_rows', 50)\n",
    "df"
   ]
  },
  {
   "cell_type": "code",
   "execution_count": null,
   "id": "08dcc134-2619-4246-96d9-500db8094794",
   "metadata": {},
   "outputs": [],
   "source": [
    "df.index"
   ]
  },
  {
   "cell_type": "code",
   "execution_count": null,
   "id": "2d2a9272-8951-4992-9cd1-a0f144493c12",
   "metadata": {},
   "outputs": [],
   "source": [
    "first_date = min(df.index)\n",
    "rai_rp_setpoint = df.loc[first_date, 'RAI_rp']\n",
    "rai_mp_setpoint = df.loc[first_date, 'RAI_mp']\n",
    "eur_setpoint = df.loc[first_date, 'EUR']\n",
    "gbp_setpoint = df.loc[first_date, 'GBP']\n",
    "chf_setpoint = df.loc[first_date, 'CHF']\n",
    "aud_setpoint = df.loc[first_date, 'AUD']\n",
    "cad_setpoint = df.loc[first_date, 'CAD']\n",
    "jpy_setpoint = df.loc[first_date, 'JPY']\n",
    "cny_setpoint = df.loc[first_date, 'CNY']\n",
    "df['rai_rp_norm'] = (df['RAI_rp']/rai_rp_setpoint)\n",
    "df['rai_mp_norm'] = (df['RAI_mp']/rai_mp_setpoint)\n",
    "df['eur_norm'] = (df['EUR']/eur_setpoint)\n",
    "df['gbp_norm'] = (df['GBP']/gbp_setpoint)\n",
    "df['chf_norm'] = (df['CHF']/chf_setpoint)\n",
    "df['aud_norm'] = (df['AUD']/aud_setpoint)\n",
    "df['cad_norm'] = (df['CAD']/cad_setpoint)\n",
    "df['jpy_norm'] = (df['JPY']/jpy_setpoint)\n",
    "df['cny_norm'] = (df['CNY']/cny_setpoint)"
   ]
  },
  {
   "cell_type": "code",
   "execution_count": null,
   "id": "0cb51add",
   "metadata": {},
   "outputs": [],
   "source": [
    "df\n"
   ]
  },
  {
   "cell_type": "code",
   "execution_count": null,
   "id": "d998c120",
   "metadata": {},
   "outputs": [],
   "source": [
    "# df['dates'] = df.index.astype(object)\n",
    "# df"
   ]
  },
  {
   "cell_type": "code",
   "execution_count": null,
   "metadata": {},
   "outputs": [],
   "source": [
    "fig, ax = plt.subplots(1,1)\n",
    "ax.set_title('Major Currencies and RAI in relation to USD', size=20)\n",
    "ax.plot(df['rai_rp_norm'], label = 'RAI_rp/USD- normalized', linewidth = 4, color = 'green')\n",
    "ax.plot(df['rai_mp_norm'], label = 'RAI_mp/USD- normalized', linewidth = 3, alpha= 0.8, color = (0.2,0.7,0.3))\n",
    "ax.plot(df['eur_norm'], linewidth= 2, alpha= 0.9, label='EUR/USD - normalized', color='black')\n",
    "ax.plot(df['gbp_norm'], linewidth= 2, alpha= 0.9, label='GBP/USD - normalized', color='red')\n",
    "ax.plot(df['chf_norm'], linewidth= 2, alpha= 0.9, label='CHF/USD - normalized', color='blue')\n",
    "ax.plot(df['aud_norm'], linewidth= 2, alpha= 0.9, label='AUD/USD - normalized', color='orange')\n",
    "ax.plot(df['cad_norm'], linewidth= 2, alpha= 0.9, label='CAD/USD - normalized', color='violet')\n",
    "ax.plot(df['jpy_norm'], linewidth= 2, alpha= 0.9, label='JPY/USD - normalized', color='gray')\n",
    "ax.plot(df['cny_norm'], linewidth= 2, alpha= 0.9, label='CNY/USD - normalized', color='brown')\n",
    "ax.set_xlabel('Date')\n",
    "# ax.set_ylabel('/USD (normalised)')\n",
    "ax.legend()\n",
    "ax.grid()\n",
    "fig.set_figwidth(30)"
   ]
  }
 ],
 "metadata": {
  "kernelspec": {
   "display_name": "Python 3.10.4 64-bit",
   "language": "python",
   "name": "python3"
  },
  "language_info": {
   "codemirror_mode": {
    "name": "ipython",
    "version": 3
   },
   "file_extension": ".py",
   "mimetype": "text/x-python",
   "name": "python",
   "nbconvert_exporter": "python",
   "pygments_lexer": "ipython3",
   "version": "3.10.12"
  },
  "vscode": {
   "interpreter": {
    "hash": "916dbcbb3f70747c44a77c7bcd40155683ae19c65e1c03b4aa3499c5328201f1"
   }
  }
 },
 "nbformat": 4,
 "nbformat_minor": 5
}
